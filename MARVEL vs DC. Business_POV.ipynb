{
 "cells": [
  {
   "cell_type": "markdown",
   "id": "103eb6f3",
   "metadata": {},
   "source": [
    "# TABLE OF CONTENTS:"
   ]
  },
  {
   "cell_type": "markdown",
   "id": "11fd80ea",
   "metadata": {},
   "source": [
    "    1. Introduction to dataset\n",
    "    \n",
    "    2. Import libraries\n",
    "    \n",
    "    3. Read dataset\n",
    "    \n",
    "    4. Data exploration\n",
    "    \n",
    "    5. Segregation of particular values\n",
    "    \n",
    "    6. Data Visualisation\n",
    "    \n",
    "    7. Analyse data based on certain criterias\n",
    "    \n",
    "    8. profiling based on topness\n",
    "    \n",
    "    9. Data analysis"
   ]
  },
  {
   "cell_type": "markdown",
   "id": "3d09d2a9",
   "metadata": {},
   "source": [
    "# INTRODUCTION TO DATASET:"
   ]
  },
  {
   "cell_type": "markdown",
   "id": "2d6e8f99",
   "metadata": {},
   "source": [
    "Context:  The war between Marvel and DC is old, but what does the numbers say? Check here with data from about the movies from 2000 to 2021\n",
    "\n",
    "Content:  41 movies from dc and marvel and infos from imdb about them, like rate, budget etc\n",
    "\n",
    "Acknowledgements:  Data all from imdb"
   ]
  },
  {
   "cell_type": "markdown",
   "id": "d1af1a33",
   "metadata": {},
   "source": [
    "# IMPORT LIBRARIES AND DATASET:"
   ]
  },
  {
   "cell_type": "code",
   "execution_count": 1,
   "id": "7b5ac1e0",
   "metadata": {},
   "outputs": [],
   "source": [
    "import csv\n",
    "from termcolor import colored\n",
    "import pandas as pd\n",
    "import warnings\n",
    "import numpy as np\n",
    "warnings.filterwarnings('ignore')\n",
    "import matplotlib.pyplot as plt\n",
    "import seaborn as sns \n",
    "from sklearn.model_selection import train_test_split\n",
    "from sklearn.preprocessing import MinMaxScaler\n",
    "from sklearn.preprocessing import StandardScaler\n",
    "from sklearn import svm\n",
    "from sklearn.metrics import accuracy_score\n",
    "db=pd.read_csv('/Users/admin/Desktop/Folder/ML Training/MarvelvsDC_db.csv')"
   ]
  },
  {
   "cell_type": "markdown",
   "id": "25b7ae22",
   "metadata": {},
   "source": [
    "# READ DATASET:"
   ]
  },
  {
   "cell_type": "code",
   "execution_count": 2,
   "id": "00f7073d",
   "metadata": {
    "scrolled": false
   },
   "outputs": [
    {
     "data": {
      "text/html": [
       "<div>\n",
       "<style scoped>\n",
       "    .dataframe tbody tr th:only-of-type {\n",
       "        vertical-align: middle;\n",
       "    }\n",
       "\n",
       "    .dataframe tbody tr th {\n",
       "        vertical-align: top;\n",
       "    }\n",
       "\n",
       "    .dataframe thead th {\n",
       "        text-align: right;\n",
       "    }\n",
       "</style>\n",
       "<table border=\"1\" class=\"dataframe\">\n",
       "  <thead>\n",
       "    <tr style=\"text-align: right;\">\n",
       "      <th></th>\n",
       "      <th>Original Title</th>\n",
       "      <th>Company</th>\n",
       "      <th>Rate</th>\n",
       "      <th>Metascore</th>\n",
       "      <th>Minutes</th>\n",
       "      <th>Release</th>\n",
       "      <th>Budget</th>\n",
       "      <th>Opening_Weekend_USA</th>\n",
       "      <th>Gross_USA</th>\n",
       "      <th>Gross_Worldwide</th>\n",
       "      <th>T/F</th>\n",
       "    </tr>\n",
       "  </thead>\n",
       "  <tbody>\n",
       "    <tr>\n",
       "      <th>0</th>\n",
       "      <td>Iron Man</td>\n",
       "      <td>Marvel</td>\n",
       "      <td>7.9</td>\n",
       "      <td>79</td>\n",
       "      <td>126</td>\n",
       "      <td>2008</td>\n",
       "      <td>140000000.0</td>\n",
       "      <td>98618668</td>\n",
       "      <td>318604126</td>\n",
       "      <td>585366247</td>\n",
       "      <td>False</td>\n",
       "    </tr>\n",
       "    <tr>\n",
       "      <th>1</th>\n",
       "      <td>The Incredible Hulk</td>\n",
       "      <td>Marvel</td>\n",
       "      <td>6.7</td>\n",
       "      <td>61</td>\n",
       "      <td>112</td>\n",
       "      <td>2008</td>\n",
       "      <td>150000000.0</td>\n",
       "      <td>55414050</td>\n",
       "      <td>134806913</td>\n",
       "      <td>263427551</td>\n",
       "      <td>True</td>\n",
       "    </tr>\n",
       "    <tr>\n",
       "      <th>2</th>\n",
       "      <td>Iron Man 2</td>\n",
       "      <td>Marvel</td>\n",
       "      <td>7.0</td>\n",
       "      <td>57</td>\n",
       "      <td>124</td>\n",
       "      <td>2010</td>\n",
       "      <td>200000000.0</td>\n",
       "      <td>128122480</td>\n",
       "      <td>312433331</td>\n",
       "      <td>623933331</td>\n",
       "      <td>True</td>\n",
       "    </tr>\n",
       "    <tr>\n",
       "      <th>3</th>\n",
       "      <td>Thor</td>\n",
       "      <td>Marvel</td>\n",
       "      <td>7.0</td>\n",
       "      <td>57</td>\n",
       "      <td>115</td>\n",
       "      <td>2011</td>\n",
       "      <td>150000000.0</td>\n",
       "      <td>65723338</td>\n",
       "      <td>181030624</td>\n",
       "      <td>449326618</td>\n",
       "      <td>True</td>\n",
       "    </tr>\n",
       "    <tr>\n",
       "      <th>4</th>\n",
       "      <td>Captain America: The First Avenger</td>\n",
       "      <td>Marvel</td>\n",
       "      <td>6.9</td>\n",
       "      <td>66</td>\n",
       "      <td>124</td>\n",
       "      <td>2011</td>\n",
       "      <td>140000000.0</td>\n",
       "      <td>65058524</td>\n",
       "      <td>176654505</td>\n",
       "      <td>370569774</td>\n",
       "      <td>True</td>\n",
       "    </tr>\n",
       "    <tr>\n",
       "      <th>5</th>\n",
       "      <td>The Avengers</td>\n",
       "      <td>Marvel</td>\n",
       "      <td>8.0</td>\n",
       "      <td>69</td>\n",
       "      <td>143</td>\n",
       "      <td>2012</td>\n",
       "      <td>220000000.0</td>\n",
       "      <td>207438708</td>\n",
       "      <td>623357910</td>\n",
       "      <td>1518812988</td>\n",
       "      <td>False</td>\n",
       "    </tr>\n",
       "    <tr>\n",
       "      <th>6</th>\n",
       "      <td>Iron Man Three</td>\n",
       "      <td>Marvel</td>\n",
       "      <td>7.2</td>\n",
       "      <td>62</td>\n",
       "      <td>130</td>\n",
       "      <td>2013</td>\n",
       "      <td>200000000.0</td>\n",
       "      <td>174144585</td>\n",
       "      <td>409013994</td>\n",
       "      <td>1214811252</td>\n",
       "      <td>False</td>\n",
       "    </tr>\n",
       "    <tr>\n",
       "      <th>7</th>\n",
       "      <td>Thor: The Dark World</td>\n",
       "      <td>Marvel</td>\n",
       "      <td>6.9</td>\n",
       "      <td>54</td>\n",
       "      <td>112</td>\n",
       "      <td>2013</td>\n",
       "      <td>170000000.0</td>\n",
       "      <td>85737841</td>\n",
       "      <td>206362140</td>\n",
       "      <td>644783140</td>\n",
       "      <td>True</td>\n",
       "    </tr>\n",
       "    <tr>\n",
       "      <th>8</th>\n",
       "      <td>Captain America: The Winter Soldier</td>\n",
       "      <td>Marvel</td>\n",
       "      <td>7.7</td>\n",
       "      <td>70</td>\n",
       "      <td>136</td>\n",
       "      <td>2014</td>\n",
       "      <td>170000000.0</td>\n",
       "      <td>95023721</td>\n",
       "      <td>259766572</td>\n",
       "      <td>714421503</td>\n",
       "      <td>False</td>\n",
       "    </tr>\n",
       "    <tr>\n",
       "      <th>9</th>\n",
       "      <td>Guardians of the Galaxy</td>\n",
       "      <td>Marvel</td>\n",
       "      <td>8.0</td>\n",
       "      <td>76</td>\n",
       "      <td>121</td>\n",
       "      <td>2014</td>\n",
       "      <td>170000000.0</td>\n",
       "      <td>94320883</td>\n",
       "      <td>333176600</td>\n",
       "      <td>772776600</td>\n",
       "      <td>False</td>\n",
       "    </tr>\n",
       "  </tbody>\n",
       "</table>\n",
       "</div>"
      ],
      "text/plain": [
       "                        Original Title Company  Rate  Metascore  Minutes  \\\n",
       "0                             Iron Man  Marvel   7.9         79      126   \n",
       "1                  The Incredible Hulk  Marvel   6.7         61      112   \n",
       "2                           Iron Man 2  Marvel   7.0         57      124   \n",
       "3                                 Thor  Marvel   7.0         57      115   \n",
       "4   Captain America: The First Avenger  Marvel   6.9         66      124   \n",
       "5                         The Avengers  Marvel   8.0         69      143   \n",
       "6                       Iron Man Three  Marvel   7.2         62      130   \n",
       "7                 Thor: The Dark World  Marvel   6.9         54      112   \n",
       "8  Captain America: The Winter Soldier  Marvel   7.7         70      136   \n",
       "9              Guardians of the Galaxy  Marvel   8.0         76      121   \n",
       "\n",
       "   Release       Budget  Opening_Weekend_USA  Gross_USA  Gross_Worldwide  \\\n",
       "0     2008  140000000.0             98618668  318604126        585366247   \n",
       "1     2008  150000000.0             55414050  134806913        263427551   \n",
       "2     2010  200000000.0            128122480  312433331        623933331   \n",
       "3     2011  150000000.0             65723338  181030624        449326618   \n",
       "4     2011  140000000.0             65058524  176654505        370569774   \n",
       "5     2012  220000000.0            207438708  623357910       1518812988   \n",
       "6     2013  200000000.0            174144585  409013994       1214811252   \n",
       "7     2013  170000000.0             85737841  206362140        644783140   \n",
       "8     2014  170000000.0             95023721  259766572        714421503   \n",
       "9     2014  170000000.0             94320883  333176600        772776600   \n",
       "\n",
       "     T/F  \n",
       "0  False  \n",
       "1   True  \n",
       "2   True  \n",
       "3   True  \n",
       "4   True  \n",
       "5  False  \n",
       "6  False  \n",
       "7   True  \n",
       "8  False  \n",
       "9  False  "
      ]
     },
     "execution_count": 2,
     "metadata": {},
     "output_type": "execute_result"
    }
   ],
   "source": [
    "db.head(10)"
   ]
  },
  {
   "cell_type": "code",
   "execution_count": 3,
   "id": "01fbe85a",
   "metadata": {},
   "outputs": [
    {
     "name": "stdout",
     "output_type": "stream",
     "text": [
      "\u001b[4m\u001b[31mThe shape of the dataframe : \u001b[0m\n",
      "(41, 11)\n"
     ]
    }
   ],
   "source": [
    "text1 = colored('The shape of the dataframe : ', 'red', attrs=['underline'])\n",
    "print(text1)\n",
    "print(db.shape)"
   ]
  },
  {
   "cell_type": "code",
   "execution_count": 4,
   "id": "d195fd06",
   "metadata": {},
   "outputs": [
    {
     "name": "stdout",
     "output_type": "stream",
     "text": [
      "\u001b[4m\u001b[31mThe value count of Rate : \u001b[0m\n",
      "Rate\n",
      "6.9    3\n",
      "7.0    3\n",
      "7.1    3\n",
      "7.3    3\n",
      "7.6    3\n",
      "7.4    2\n",
      "8.5    2\n",
      "6.0    2\n",
      "8.0    2\n",
      "7.9    2\n",
      "7.7    1\n",
      "8.7    1\n",
      "8.4    1\n",
      "8.3    1\n",
      "8.2    1\n",
      "7.8    1\n",
      "3.3    1\n",
      "7.5    1\n",
      "4.7    1\n",
      "7.2    1\n",
      "6.7    1\n",
      "6.5    1\n",
      "6.4    1\n",
      "5.5    1\n",
      "5.4    1\n",
      "9.0    1\n",
      "dtype: int64\n"
     ]
    }
   ],
   "source": [
    "text2 = colored('The value count of Rate : ', 'red', attrs=['underline'])\n",
    "print(text2)\n",
    "print(db.value_counts('Rate'))"
   ]
  },
  {
   "cell_type": "code",
   "execution_count": 5,
   "id": "f1b48253",
   "metadata": {},
   "outputs": [
    {
     "name": "stdout",
     "output_type": "stream",
     "text": [
      "\u001b[4m\u001b[31mThe mean w.r.t Run-Time : \u001b[0m\n",
      "             Rate  Metascore      Release        Budget  Opening_Weekend_USA  \\\n",
      "Minutes                                                                        \n",
      "81       4.700000  33.000000  2010.000000  4.700000e+07            5379365.0   \n",
      "104      3.300000  27.000000  2004.000000  1.000000e+08           16728411.0   \n",
      "112      6.800000  57.500000  2010.500000  1.600000e+08           70575945.5   \n",
      "114      5.500000  39.000000  2011.000000  2.000000e+08           53174303.0   \n",
      "115      7.250000  64.500000  2013.500000  1.575000e+08           75390824.5   \n",
      "117      7.300000  64.000000  2015.000000  1.300000e+08           57225526.0   \n",
      "118      7.100000  70.000000  2018.000000  1.620000e+08           75812205.0   \n",
      "120      6.400000  45.000000  2017.000000  3.000000e+08           93842239.0   \n",
      "121      8.000000  76.000000  2014.000000  1.700000e+08           94320883.0   \n",
      "122      8.700000  59.000000  2019.000000  5.500000e+07           96202337.0   \n",
      "123      6.450000  52.000000  2017.500000  1.750000e+08          143557835.5   \n",
      "124      6.950000  61.500000  2010.500000  1.700000e+08           96590502.0   \n",
      "126      7.900000  79.000000  2008.000000  1.400000e+08           98618668.0   \n",
      "129      7.600000  69.000000  2019.000000  1.600000e+08           92579212.0   \n",
      "130      7.550000  68.000000  2015.000000  1.900000e+08          148444787.0   \n",
      "132      7.100000  71.000000  2019.000000  1.000000e+08           53505326.0   \n",
      "133      7.400000  73.000000  2017.000000  1.750000e+08          117027503.0   \n",
      "134      7.300000  88.000000  2018.000000  2.000000e+08          202003951.0   \n",
      "136      7.650000  68.500000  2015.500000  1.850000e+08          120766912.5   \n",
      "140      8.200000  70.000000  2005.000000  1.500000e+08           48745440.0   \n",
      "141      7.350000  71.000000  2016.000000  1.995000e+08          147261290.0   \n",
      "143      7.366667  59.666667  2014.333333  2.016667e+08          130643864.0   \n",
      "147      7.800000  75.000000  2016.000000  2.500000e+08          179139142.0   \n",
      "148      8.300000  71.000000  2021.000000           NaN          804617772.0   \n",
      "149      8.500000  68.000000  2018.000000  3.210000e+08          257698183.0   \n",
      "151      5.950000  52.000000  2018.000000  2.500000e+08          106404191.5   \n",
      "152      9.000000  84.000000  2008.000000  1.850000e+08          158411483.0   \n",
      "154      6.000000  72.000000  2006.000000  2.700000e+08           52535096.0   \n",
      "162      7.600000  56.000000  2009.000000  1.300000e+08           55214334.0   \n",
      "164      8.400000  78.000000  2012.000000  2.500000e+08          160887295.0   \n",
      "181      8.500000  78.000000  2019.000000  3.560000e+08          357115007.0   \n",
      "\n",
      "            Gross_USA  Gross_Worldwide       T/F  \n",
      "Minutes                                           \n",
      "81       1.054712e+07     1.090331e+07  1.000000  \n",
      "104      4.020238e+07     8.210238e+07  1.000000  \n",
      "112      1.705845e+08     4.541053e+08  1.000000  \n",
      "114      1.166012e+08     2.198512e+08  1.000000  \n",
      "115      2.068363e+08     5.635225e+08  0.500000  \n",
      "117      1.802022e+08     5.193120e+08  0.000000  \n",
      "118      2.166487e+08     6.226741e+08  1.000000  \n",
      "120      2.290243e+08     6.579243e+08  1.000000  \n",
      "121      3.331766e+08     7.727766e+08  0.000000  \n",
      "122      3.332046e+08     1.060505e+09  0.000000  \n",
      "123      3.759649e+08     9.375608e+08  1.000000  \n",
      "124      2.445439e+08     4.972516e+08  1.000000  \n",
      "126      3.186041e+08     5.853662e+08  0.000000  \n",
      "129      3.905321e+08     1.131928e+09  0.000000  \n",
      "130      3.620361e+08     1.034394e+09  0.000000  \n",
      "132      1.403717e+08     3.645717e+08  1.000000  \n",
      "133      3.342011e+08     8.801669e+08  0.000000  \n",
      "134      7.000596e+08     1.346913e+09  0.000000  \n",
      "136      3.247898e+08     7.890888e+08  0.000000  \n",
      "140      2.068524e+08     3.734133e+08  0.000000  \n",
      "141      4.357846e+08     1.112326e+09  0.000000  \n",
      "143      4.164884e+08     1.111673e+09  0.666667  \n",
      "147      4.080843e+08     1.153296e+09  0.000000  \n",
      "148      8.046178e+08     1.886306e+09  0.000000  \n",
      "149      6.788155e+08     2.048360e+09  0.000000  \n",
      "151      1.885806e+08     4.699976e+08  1.000000  \n",
      "152      5.352340e+08     1.004934e+09  0.000000  \n",
      "154      2.000812e+08     3.910812e+08  1.000000  \n",
      "162      1.075098e+08     1.852590e+08  0.000000  \n",
      "164      4.481391e+08     1.081041e+09  0.000000  \n",
      "181      8.583730e+08     2.797801e+09  0.000000  \n"
     ]
    }
   ],
   "source": [
    "text3 = colored('The mean w.r.t Run-Time : ', 'red', attrs=['underline'])\n",
    "print(text3)\n",
    "print(db.groupby('Minutes').mean())"
   ]
  },
  {
   "cell_type": "code",
   "execution_count": 6,
   "id": "39458818",
   "metadata": {},
   "outputs": [
    {
     "name": "stdout",
     "output_type": "stream",
     "text": [
      "\u001b[4m\u001b[31mMean  : \u001b[0m\n"
     ]
    },
    {
     "data": {
      "text/plain": [
       "Rate                   7.185366e+00\n",
       "Metascore              6.375610e+01\n",
       "Minutes                1.327073e+02\n",
       "Release                2.014122e+03\n",
       "Budget                 1.841026e+08\n",
       "Opening_Weekend_USA    1.302610e+08\n",
       "Gross_USA              3.282632e+08\n",
       "Gross_Worldwide        8.348293e+08\n",
       "T/F                    4.390244e-01\n",
       "dtype: float64"
      ]
     },
     "execution_count": 6,
     "metadata": {},
     "output_type": "execute_result"
    }
   ],
   "source": [
    "text4 = colored('Mean  : ', 'red', attrs=['underline'])\n",
    "print(text4)\n",
    "db.mean()"
   ]
  },
  {
   "cell_type": "code",
   "execution_count": 7,
   "id": "90dfd10e",
   "metadata": {},
   "outputs": [
    {
     "name": "stdout",
     "output_type": "stream",
     "text": [
      "\u001b[4m\u001b[31mStandard deviation : \u001b[0m\n"
     ]
    },
    {
     "data": {
      "text/plain": [
       "Rate                   1.099218e+00\n",
       "Metascore              1.357163e+01\n",
       "Minutes                1.838647e+01\n",
       "Release                4.428290e+00\n",
       "Budget                 6.441020e+07\n",
       "Opening_Weekend_USA    1.274610e+08\n",
       "Gross_USA              1.967245e+08\n",
       "Gross_Worldwide        5.590835e+08\n",
       "T/F                    5.024331e-01\n",
       "dtype: float64"
      ]
     },
     "execution_count": 7,
     "metadata": {},
     "output_type": "execute_result"
    }
   ],
   "source": [
    "text5 = colored('Standard deviation : ', 'red', attrs=['underline'])\n",
    "print(text5)\n",
    "db.std()"
   ]
  },
  {
   "cell_type": "code",
   "execution_count": 8,
   "id": "ffa26a41",
   "metadata": {},
   "outputs": [
    {
     "name": "stdout",
     "output_type": "stream",
     "text": [
      "\u001b[4m\u001b[31mDatabase description : \u001b[0m\n"
     ]
    },
    {
     "data": {
      "text/html": [
       "<div>\n",
       "<style scoped>\n",
       "    .dataframe tbody tr th:only-of-type {\n",
       "        vertical-align: middle;\n",
       "    }\n",
       "\n",
       "    .dataframe tbody tr th {\n",
       "        vertical-align: top;\n",
       "    }\n",
       "\n",
       "    .dataframe thead th {\n",
       "        text-align: right;\n",
       "    }\n",
       "</style>\n",
       "<table border=\"1\" class=\"dataframe\">\n",
       "  <thead>\n",
       "    <tr style=\"text-align: right;\">\n",
       "      <th></th>\n",
       "      <th>Rate</th>\n",
       "      <th>Metascore</th>\n",
       "      <th>Minutes</th>\n",
       "      <th>Release</th>\n",
       "      <th>Budget</th>\n",
       "      <th>Opening_Weekend_USA</th>\n",
       "      <th>Gross_USA</th>\n",
       "      <th>Gross_Worldwide</th>\n",
       "    </tr>\n",
       "  </thead>\n",
       "  <tbody>\n",
       "    <tr>\n",
       "      <th>count</th>\n",
       "      <td>41.000000</td>\n",
       "      <td>41.000000</td>\n",
       "      <td>41.000000</td>\n",
       "      <td>41.000000</td>\n",
       "      <td>3.900000e+01</td>\n",
       "      <td>4.100000e+01</td>\n",
       "      <td>4.100000e+01</td>\n",
       "      <td>4.100000e+01</td>\n",
       "    </tr>\n",
       "    <tr>\n",
       "      <th>mean</th>\n",
       "      <td>7.185366</td>\n",
       "      <td>63.756098</td>\n",
       "      <td>132.707317</td>\n",
       "      <td>2014.121951</td>\n",
       "      <td>1.841026e+08</td>\n",
       "      <td>1.302610e+08</td>\n",
       "      <td>3.282632e+08</td>\n",
       "      <td>8.348293e+08</td>\n",
       "    </tr>\n",
       "    <tr>\n",
       "      <th>std</th>\n",
       "      <td>1.099218</td>\n",
       "      <td>13.571626</td>\n",
       "      <td>18.386468</td>\n",
       "      <td>4.428290</td>\n",
       "      <td>6.441020e+07</td>\n",
       "      <td>1.274610e+08</td>\n",
       "      <td>1.967245e+08</td>\n",
       "      <td>5.590835e+08</td>\n",
       "    </tr>\n",
       "    <tr>\n",
       "      <th>min</th>\n",
       "      <td>3.300000</td>\n",
       "      <td>27.000000</td>\n",
       "      <td>81.000000</td>\n",
       "      <td>2004.000000</td>\n",
       "      <td>4.700000e+07</td>\n",
       "      <td>5.379365e+06</td>\n",
       "      <td>1.054712e+07</td>\n",
       "      <td>1.090331e+07</td>\n",
       "    </tr>\n",
       "    <tr>\n",
       "      <th>25%</th>\n",
       "      <td>6.900000</td>\n",
       "      <td>57.000000</td>\n",
       "      <td>121.000000</td>\n",
       "      <td>2011.000000</td>\n",
       "      <td>1.500000e+08</td>\n",
       "      <td>6.505852e+07</td>\n",
       "      <td>2.000812e+08</td>\n",
       "      <td>4.493266e+08</td>\n",
       "    </tr>\n",
       "    <tr>\n",
       "      <th>50%</th>\n",
       "      <td>7.300000</td>\n",
       "      <td>67.000000</td>\n",
       "      <td>132.000000</td>\n",
       "      <td>2015.000000</td>\n",
       "      <td>1.750000e+08</td>\n",
       "      <td>9.620234e+07</td>\n",
       "      <td>3.186041e+08</td>\n",
       "      <td>7.468469e+08</td>\n",
       "    </tr>\n",
       "    <tr>\n",
       "      <th>75%</th>\n",
       "      <td>7.900000</td>\n",
       "      <td>72.000000</td>\n",
       "      <td>143.000000</td>\n",
       "      <td>2018.000000</td>\n",
       "      <td>2.100000e+08</td>\n",
       "      <td>1.584115e+08</td>\n",
       "      <td>4.090140e+08</td>\n",
       "      <td>1.128275e+09</td>\n",
       "    </tr>\n",
       "    <tr>\n",
       "      <th>max</th>\n",
       "      <td>9.000000</td>\n",
       "      <td>88.000000</td>\n",
       "      <td>181.000000</td>\n",
       "      <td>2021.000000</td>\n",
       "      <td>3.560000e+08</td>\n",
       "      <td>8.046178e+08</td>\n",
       "      <td>8.583730e+08</td>\n",
       "      <td>2.797801e+09</td>\n",
       "    </tr>\n",
       "  </tbody>\n",
       "</table>\n",
       "</div>"
      ],
      "text/plain": [
       "            Rate  Metascore     Minutes      Release        Budget  \\\n",
       "count  41.000000  41.000000   41.000000    41.000000  3.900000e+01   \n",
       "mean    7.185366  63.756098  132.707317  2014.121951  1.841026e+08   \n",
       "std     1.099218  13.571626   18.386468     4.428290  6.441020e+07   \n",
       "min     3.300000  27.000000   81.000000  2004.000000  4.700000e+07   \n",
       "25%     6.900000  57.000000  121.000000  2011.000000  1.500000e+08   \n",
       "50%     7.300000  67.000000  132.000000  2015.000000  1.750000e+08   \n",
       "75%     7.900000  72.000000  143.000000  2018.000000  2.100000e+08   \n",
       "max     9.000000  88.000000  181.000000  2021.000000  3.560000e+08   \n",
       "\n",
       "       Opening_Weekend_USA     Gross_USA  Gross_Worldwide  \n",
       "count         4.100000e+01  4.100000e+01     4.100000e+01  \n",
       "mean          1.302610e+08  3.282632e+08     8.348293e+08  \n",
       "std           1.274610e+08  1.967245e+08     5.590835e+08  \n",
       "min           5.379365e+06  1.054712e+07     1.090331e+07  \n",
       "25%           6.505852e+07  2.000812e+08     4.493266e+08  \n",
       "50%           9.620234e+07  3.186041e+08     7.468469e+08  \n",
       "75%           1.584115e+08  4.090140e+08     1.128275e+09  \n",
       "max           8.046178e+08  8.583730e+08     2.797801e+09  "
      ]
     },
     "execution_count": 8,
     "metadata": {},
     "output_type": "execute_result"
    }
   ],
   "source": [
    "text6 = colored('Database description : ', 'red', attrs=['underline'])\n",
    "print(text6)\n",
    "db.describe()"
   ]
  },
  {
   "cell_type": "code",
   "execution_count": 9,
   "id": "0af26213",
   "metadata": {},
   "outputs": [
    {
     "name": "stdout",
     "output_type": "stream",
     "text": [
      "\u001b[4m\u001b[31mStandard deviation : \u001b[0m\n",
      "Release\n",
      "2017    5\n",
      "2019    5\n",
      "2018    4\n",
      "2016    4\n",
      "2013    3\n",
      "2008    3\n",
      "2011    3\n",
      "2010    2\n",
      "2012    2\n",
      "2014    2\n",
      "2015    2\n",
      "2020    1\n",
      "2004    1\n",
      "2005    1\n",
      "2009    1\n",
      "2006    1\n",
      "2021    1\n",
      "dtype: int64\n"
     ]
    }
   ],
   "source": [
    "text7 = colored('Standard deviation : ', 'red', attrs=['underline'])\n",
    "print(text7)\n",
    "print(db.value_counts('Release'))"
   ]
  },
  {
   "cell_type": "code",
   "execution_count": 10,
   "id": "04bd0fa5",
   "metadata": {},
   "outputs": [
    {
     "name": "stdout",
     "output_type": "stream",
     "text": [
      "\u001b[4m\u001b[31mThe minimum values : \u001b[0m\n"
     ]
    },
    {
     "data": {
      "text/plain": [
       "Original Title            Ant-Man\n",
       "Company                        DC\n",
       "Rate                          3.3\n",
       "Metascore                      27\n",
       "Minutes                        81\n",
       "Release                      2004\n",
       "Budget                 47000000.0\n",
       "Opening_Weekend_USA       5379365\n",
       "Gross_USA                10547117\n",
       "Gross_Worldwide          10903312\n",
       "T/F                         False\n",
       "dtype: object"
      ]
     },
     "execution_count": 10,
     "metadata": {},
     "output_type": "execute_result"
    }
   ],
   "source": [
    "text8 = colored('The minimum values : ', 'red', attrs=['underline'])\n",
    "print(text8)\n",
    "db.min()"
   ]
  },
  {
   "cell_type": "code",
   "execution_count": 11,
   "id": "4926a94e",
   "metadata": {
    "scrolled": true
   },
   "outputs": [
    {
     "name": "stdout",
     "output_type": "stream",
     "text": [
      "\u001b[4m\u001b[31mThe maximum values : \u001b[0m\n"
     ]
    },
    {
     "data": {
      "text/plain": [
       "Original Title         Wonder Woman 1984\n",
       "Company                           Marvel\n",
       "Rate                                 9.0\n",
       "Metascore                             88\n",
       "Minutes                              181\n",
       "Release                             2021\n",
       "Budget                       356000000.0\n",
       "Opening_Weekend_USA            804617772\n",
       "Gross_USA                      858373000\n",
       "Gross_Worldwide               2797800564\n",
       "T/F                                 True\n",
       "dtype: object"
      ]
     },
     "execution_count": 11,
     "metadata": {},
     "output_type": "execute_result"
    }
   ],
   "source": [
    "text9 = colored('The maximum values : ', 'red', attrs=['underline'])\n",
    "print(text9)\n",
    "db.max()"
   ]
  },
  {
   "cell_type": "code",
   "execution_count": 12,
   "id": "93161318",
   "metadata": {},
   "outputs": [
    {
     "name": "stdout",
     "output_type": "stream",
     "text": [
      "The mean value of Ratings :  7.185365853658536\n",
      "The maximum value of Metascore :  88\n"
     ]
    }
   ],
   "source": [
    "avg=db.Rate.mean()\n",
    "print('The mean value of Ratings : ',avg)\n",
    "print('The maximum value of Metascore : ',db.Metascore.max())"
   ]
  },
  {
   "cell_type": "code",
   "execution_count": 13,
   "id": "a1dccd2a",
   "metadata": {
    "scrolled": true
   },
   "outputs": [
    {
     "name": "stdout",
     "output_type": "stream",
     "text": [
      "\u001b[4m\u001b[31mThe count null values : \u001b[0m\n"
     ]
    },
    {
     "data": {
      "text/plain": [
       "Original Title         0\n",
       "Company                0\n",
       "Rate                   0\n",
       "Metascore              0\n",
       "Minutes                0\n",
       "Release                0\n",
       "Budget                 2\n",
       "Opening_Weekend_USA    0\n",
       "Gross_USA              0\n",
       "Gross_Worldwide        0\n",
       "T/F                    0\n",
       "dtype: int64"
      ]
     },
     "execution_count": 13,
     "metadata": {},
     "output_type": "execute_result"
    }
   ],
   "source": [
    "text10 = colored('The count null values : ', 'red', attrs=['underline'])\n",
    "print(text10)\n",
    "db.isnull().sum()"
   ]
  },
  {
   "cell_type": "code",
   "execution_count": 14,
   "id": "23784e8a",
   "metadata": {},
   "outputs": [],
   "source": [
    "#filling null values\n",
    "db.fillna(db.median(),inplace=True)"
   ]
  },
  {
   "cell_type": "code",
   "execution_count": 15,
   "id": "fcbf6831",
   "metadata": {
    "scrolled": false
   },
   "outputs": [
    {
     "data": {
      "text/plain": [
       "Original Title         0\n",
       "Company                0\n",
       "Rate                   0\n",
       "Metascore              0\n",
       "Minutes                0\n",
       "Release                0\n",
       "Budget                 0\n",
       "Opening_Weekend_USA    0\n",
       "Gross_USA              0\n",
       "Gross_Worldwide        0\n",
       "T/F                    0\n",
       "dtype: int64"
      ]
     },
     "execution_count": 15,
     "metadata": {},
     "output_type": "execute_result"
    }
   ],
   "source": [
    "#after replacing, The count of null values\n",
    "db.isnull().sum()"
   ]
  },
  {
   "cell_type": "markdown",
   "id": "a479fa53",
   "metadata": {},
   "source": [
    "# Data Visualisation"
   ]
  },
  {
   "cell_type": "code",
   "execution_count": 16,
   "id": "813dfa1f",
   "metadata": {},
   "outputs": [
    {
     "data": {
      "image/png": "[encoded data removed]",
      "text/plain": [
       "<Figure size 432x288 with 1 Axes>"
      ]
     },
     "metadata": {
      "needs_background": "light"
     },
     "output_type": "display_data"
    }
   ],
   "source": [
    "import matplotlib.pyplot as plt\n",
    "x=db.Gross_Worldwide\n",
    "y=db.Rate\n",
    "plt.plot(x,y,'g--')\n",
    "plt.xlabel('Gross Worldwide')\n",
    "plt.ylabel('Rate')\n",
    "plt.show()"
   ]
  },
  {
   "cell_type": "code",
   "execution_count": 17,
   "id": "fc7e53d6",
   "metadata": {},
   "outputs": [
    {
     "data": {
      "image/png": "[encoded data removed]",
      "text/plain": [
       "<Figure size 432x288 with 1 Axes>"
      ]
     },
     "metadata": {
      "needs_background": "light"
     },
     "output_type": "display_data"
    }
   ],
   "source": [
    "import matplotlib.pyplot as plt\n",
    "x=db.Rate\n",
    "y=db.Metascore\n",
    "plt.scatter(x,y,c='grey',marker='o')\n",
    "plt.xlabel('IMDB Score')\n",
    "plt.ylabel('Metascore')\n",
    "plt.title('ratings')\n",
    "plt.show()"
   ]
  },
  {
   "cell_type": "code",
   "execution_count": 18,
   "id": "b43b0136",
   "metadata": {},
   "outputs": [
    {
     "data": {
      "image/png": "[encoded data removed]",
      "text/plain": [
       "<Figure size 432x288 with 1 Axes>"
      ]
     },
     "metadata": {
      "needs_background": "light"
     },
     "output_type": "display_data"
    }
   ],
   "source": [
    "import matplotlib.pyplot as plt\n",
    "x=db.Gross_Worldwide\n",
    "y=db.Company\n",
    "fig=plt.figure()\n",
    "ax=fig.add_axes([0,0,1,1])\n",
    "ax.bar(y,x,color='black')\n",
    "plt.ylabel('Gross_Worldwide')\n",
    "plt.xlabel('Company')\n",
    "plt.show()"
   ]
  },
  {
   "cell_type": "code",
   "execution_count": 19,
   "id": "69334dd0",
   "metadata": {},
   "outputs": [],
   "source": [
    "sns.set_theme()"
   ]
  },
  {
   "cell_type": "code",
   "execution_count": 20,
   "id": "e7ca5633",
   "metadata": {},
   "outputs": [
    {
     "data": {
      "text/plain": [
       "<seaborn.axisgrid.FacetGrid at 0x178322fad90>"
      ]
     },
     "execution_count": 20,
     "metadata": {},
     "output_type": "execute_result"
    },
    {
     "data": {
      "image/png": "[encoded data removed]",
      "text/plain": [
       "<Figure size 471.85x360 with 1 Axes>"
      ]
     },
     "metadata": {},
     "output_type": "display_data"
    }
   ],
   "source": [
    "sns.relplot(data=db,x='Rate',y='Metascore',hue='Company',size='Gross_Worldwide',style='Release')"
   ]
  },
  {
   "cell_type": "code",
   "execution_count": 21,
   "id": "44ab35c7",
   "metadata": {},
   "outputs": [
    {
     "data": {
      "image/png": "[encoded data removed]",
      "text/plain": [
       "<Figure size 432x288 with 1 Axes>"
      ]
     },
     "metadata": {},
     "output_type": "display_data"
    }
   ],
   "source": [
    "import matplotlib.pyplot as plt\n",
    "x=db.Budget\n",
    "y=db.Release\n",
    "fig=plt.figure()\n",
    "ax=fig.add_axes([0,0,1,1])\n",
    "ax.bar(y,x)\n",
    "plt.ylabel('Budget')\n",
    "plt.xlabel('Release')\n",
    "plt.show()"
   ]
  },
  {
   "cell_type": "code",
   "execution_count": 22,
   "id": "3dbcb881",
   "metadata": {},
   "outputs": [
    {
     "data": {
      "text/plain": [
       "<AxesSubplot:xlabel='Budget', ylabel='Count'>"
      ]
     },
     "execution_count": 22,
     "metadata": {},
     "output_type": "execute_result"
    },
    {
     "data": {
      "image/png": "[encoded data removed]",
      "text/plain": [
       "<Figure size 576x576 with 1 Axes>"
      ]
     },
     "metadata": {},
     "output_type": "display_data"
    }
   ],
   "source": [
    "fig,ax=plt.subplots(figsize=(8,8))\n",
    "sns.histplot(db.Budget)"
   ]
  },
  {
   "cell_type": "code",
   "execution_count": 23,
   "id": "1341b24b",
   "metadata": {},
   "outputs": [
    {
     "data": {
      "text/plain": [
       "<AxesSubplot:xlabel='Budget', ylabel='Density'>"
      ]
     },
     "execution_count": 23,
     "metadata": {},
     "output_type": "execute_result"
    },
    {
     "data": {
      "image/png": "[encoded data removed]",
      "text/plain": [
       "<Figure size 576x576 with 1 Axes>"
      ]
     },
     "metadata": {},
     "output_type": "display_data"
    }
   ],
   "source": [
    "fig,ax=plt.subplots(figsize=(8,8))\n",
    "sns.distplot(db.Budget,color='green')"
   ]
  },
  {
   "cell_type": "code",
   "execution_count": 24,
   "id": "cca6cbf3",
   "metadata": {
    "scrolled": false
   },
   "outputs": [
    {
     "data": {
      "text/plain": [
       "<AxesSubplot:>"
      ]
     },
     "execution_count": 24,
     "metadata": {},
     "output_type": "execute_result"
    },
    {
     "data": {
      "image/png": "[encoded data removed]",
      "text/plain": [
       "<Figure size 720x720 with 2 Axes>"
      ]
     },
     "metadata": {},
     "output_type": "display_data"
    }
   ],
   "source": [
    "correlation=db.corr()\n",
    "plt.figure(figsize=(10,10))\n",
    "sns.heatmap(correlation,cbar=True,square=True, fmt='.1f',annot=True,annot_kws={'size':8}, cmap='Blues')"
   ]
  },
  {
   "cell_type": "markdown",
   "id": "7d938eda",
   "metadata": {},
   "source": [
    "# Preprocessing Data"
   ]
  },
  {
   "cell_type": "markdown",
   "id": "90696302",
   "metadata": {},
   "source": [
    "TRAINING AND TESTING THE DATA:"
   ]
  },
  {
   "cell_type": "code",
   "execution_count": 25,
   "id": "754dd215",
   "metadata": {},
   "outputs": [],
   "source": [
    "X = db[['Rate', 'Metascore']]\n",
    "y = db['T/F']\n",
    "X_train, X_test, y_train, y_test = train_test_split(X,y,test_size=0.2,random_state=27)\n",
    "norm = MinMaxScaler().fit(X_train)"
   ]
  },
  {
   "cell_type": "markdown",
   "id": "04471227",
   "metadata": {},
   "source": [
    "STANDARDIZING THE DATA:"
   ]
  },
  {
   "cell_type": "code",
   "execution_count": 26,
   "id": "e687e5c9",
   "metadata": {},
   "outputs": [],
   "source": [
    "scaler=StandardScaler()\n",
    "scaler.fit(X_train)\n",
    "StandardScaler(copy=True,with_mean=True,with_std=True)\n",
    "X_train_standardized=scaler.transform(X_train)\n",
    "X_test_standardized=scaler.transform(X_test)"
   ]
  },
  {
   "cell_type": "markdown",
   "id": "d20540c9",
   "metadata": {},
   "source": [
    "CLASSIFING THE DATA USING Support Vector Machine Algorithm:"
   ]
  },
  {
   "cell_type": "code",
   "execution_count": 27,
   "id": "468bfe27",
   "metadata": {},
   "outputs": [
    {
     "data": {
      "text/plain": [
       "SVC(kernel='linear')"
      ]
     },
     "execution_count": 27,
     "metadata": {},
     "output_type": "execute_result"
    }
   ],
   "source": [
    "classifier=svm.SVC(kernel='linear')\n",
    "classifier.fit(X_train,y_train)"
   ]
  },
  {
   "cell_type": "code",
   "execution_count": 28,
   "id": "d0dc049d",
   "metadata": {},
   "outputs": [],
   "source": [
    "x_train_pred=classifier.predict(X_train)\n",
    "TrDaccuracy=accuracy_score(x_train_pred,y_train)\n",
    "x_test_pred=classifier.predict(X_test)\n",
    "TeDaccuracy=accuracy_score(x_test_pred,y_test)"
   ]
  },
  {
   "cell_type": "markdown",
   "id": "21b8bae6",
   "metadata": {},
   "source": [
    "CALCULATING THE ACCURACY OF THE DATA:"
   ]
  },
  {
   "cell_type": "code",
   "execution_count": 29,
   "id": "d7cf45f4",
   "metadata": {},
   "outputs": [
    {
     "name": "stdout",
     "output_type": "stream",
     "text": [
      "Accuracy of the trained data is  0.90625\n"
     ]
    }
   ],
   "source": [
    "print(\"Accuracy of the trained data is \",TrDaccuracy)"
   ]
  },
  {
   "cell_type": "code",
   "execution_count": 30,
   "id": "5bfbdae7",
   "metadata": {
    "scrolled": true
   },
   "outputs": [
    {
     "name": "stdout",
     "output_type": "stream",
     "text": [
      "Accuracy of the tested data is  0.8888888888888888\n"
     ]
    }
   ],
   "source": [
    "print(\"Accuracy of the tested data is \",TeDaccuracy)"
   ]
  },
  {
   "cell_type": "code",
   "execution_count": 31,
   "id": "a9da08c7",
   "metadata": {},
   "outputs": [],
   "source": [
    "input_data=( 7, 7.2) \n",
    "input_data_as_ndarray=np.asarray(input_data)\n",
    "input_data_reshaped=input_data_as_ndarray.reshape(1,-1)"
   ]
  },
  {
   "cell_type": "code",
   "execution_count": 32,
   "id": "0a4e68b0",
   "metadata": {},
   "outputs": [
    {
     "name": "stdout",
     "output_type": "stream",
     "text": [
      "[[-0.11578457 -4.30279536]]\n"
     ]
    }
   ],
   "source": [
    "std_data=scaler.transform(input_data_reshaped)\n",
    "print(std_data)"
   ]
  },
  {
   "cell_type": "code",
   "execution_count": 33,
   "id": "490d3020",
   "metadata": {},
   "outputs": [
    {
     "name": "stdout",
     "output_type": "stream",
     "text": [
      "The Marvel movies yield more profit!\n"
     ]
    }
   ],
   "source": [
    "prediction=classifier.predict(std_data)\n",
    "if(prediction[0]==True):\n",
    "    print(\"The Marvel movies yield more profit!\")\n",
    "else:\n",
    "    print(\"The DC movies yield more profit!\")"
   ]
  }
 ],
 "metadata": {
  "kernelspec": {
   "display_name": "Python 3",
   "language": "python",
   "name": "python3"
  },
  "language_info": {
   "codemirror_mode": {
    "name": "ipython",
    "version": 3
   },
   "file_extension": ".py",
   "mimetype": "text/x-python",
   "name": "python",
   "nbconvert_exporter": "python",
   "pygments_lexer": "ipython3",
   "version": "3.8.8"
  }
 },
 "nbformat": 4,
 "nbformat_minor": 5
}
